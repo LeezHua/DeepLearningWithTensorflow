{
 "cells": [
  {
   "cell_type": "code",
   "execution_count": 9,
   "metadata": {},
   "outputs": [],
   "source": [
    "import numpy as np"
   ]
  },
  {
   "cell_type": "markdown",
   "metadata": {
    "vscode": {
     "languageId": "latex"
    }
   },
   "source": [
    "$$\n",
    "loss = \\sum\\limits_{i = 1}^n {{{(w \\cdot {x_i} + b - {y_i})}^2}}\n",
    "$$"
   ]
  },
  {
   "cell_type": "code",
   "execution_count": 10,
   "metadata": {},
   "outputs": [],
   "source": [
    "# compute loss()\n",
    "def compute_error_for_line_given_points(b, w, points):\n",
    "    totalError = 0\n",
    "    for point in points:\n",
    "        x = point[0]\n",
    "        y = point[1]\n",
    "        totalError += (y - (w * x + b))\n",
    "    # average loss for each point\n",
    "    return totalError / float(len(points))"
   ]
  },
  {
   "cell_type": "markdown",
   "metadata": {},
   "source": [
    "$$\n",
    "\\frac{{\\partial l}}{{\\partial w}} = \\sum\\limits_{i = 1}^n {2(w \\cdot {x_i} + b - {y_i}) \\cdot {x_i}} \\\\\n",
    "\n",
    "\\frac{{\\partial l}}{{\\partial b}} = \\sum\\limits_{i = 1}^n {2(w \\cdot {x_i} + b - {y_i})} \\\\\n",
    "$$"
   ]
  },
  {
   "cell_type": "code",
   "execution_count": 13,
   "metadata": {},
   "outputs": [],
   "source": [
    "# return steped [b, w]\n",
    "def step_gradient(b_current, w_current, points, learningRate):\n",
    "    b_gradient = 0\n",
    "    w_gradient = 0\n",
    "    N = float(len(points))\n",
    "    for point in points:\n",
    "        x = point[0]\n",
    "        y = point[1]\n",
    "        b_gradient += (2/N) * ((w_current * x + b_current) - y)\n",
    "        w_gradient += (2/N) * x * ((w_current * x + b_current) - y)\n",
    "    \n",
    "    # update w, b\n",
    "    new_b = b_current - (learningRate * b_gradient)\n",
    "    new_w = w_current - (learningRate * w_gradient)\n",
    "    return [new_b, new_w]"
   ]
  },
  {
   "cell_type": "code",
   "execution_count": 14,
   "metadata": {},
   "outputs": [],
   "source": [
    "# minimize loss\n",
    "def gradient_descent_runner(points, starting_b, starting_w, learingRate, num_iterations):\n",
    "    b = starting_b\n",
    "    w = starting_w\n",
    "    # update for several times\n",
    "    for i in range(num_iterations):\n",
    "        b, w = step_gradient(b, w, np.array(points), learingRate)\n",
    "        return [b, w]"
   ]
  }
 ],
 "metadata": {
  "kernelspec": {
   "display_name": "TF",
   "language": "python",
   "name": "python3"
  },
  "language_info": {
   "codemirror_mode": {
    "name": "ipython",
    "version": 3
   },
   "file_extension": ".py",
   "mimetype": "text/x-python",
   "name": "python",
   "nbconvert_exporter": "python",
   "pygments_lexer": "ipython3",
   "version": "3.10.13"
  }
 },
 "nbformat": 4,
 "nbformat_minor": 2
}
